{
 "cells": [
  {
   "cell_type": "code",
   "execution_count": 4,
   "id": "b6cfd2e2-d811-404f-bec9-0af8b517eebd",
   "metadata": {},
   "outputs": [
    {
     "name": "stdout",
     "output_type": "stream",
     "text": [
      "http://web:5000\n",
      "[<Experiment: artifact_location='test1', experiment_id='2', lifecycle_stage='active', name='test1', tags={}>, <Experiment: artifact_location='s3://mlflow/3', experiment_id='3', lifecycle_stage='active', name='my-experiment', tags={}>, <Experiment: artifact_location='s3://mlflow/4', experiment_id='4', lifecycle_stage='active', name='d4e0491e-014b-477b-932d-66c68c28cc4f', tags={}>, <Experiment: artifact_location='s3://mlflow/5', experiment_id='5', lifecycle_stage='active', name='connection_validation', tags={}>]\n"
     ]
    }
   ],
   "source": [
    "import mlflow\n",
    "print(mlflow.get_tracking_uri())\n",
    "print(mlflow.list_experiments())"
   ]
  },
  {
   "cell_type": "code",
   "execution_count": 5,
   "id": "7dffabf4-30c7-45f0-bb28-b775c6ca62f2",
   "metadata": {},
   "outputs": [],
   "source": [
    "import os\n",
    "from random import random, randint\n",
    "#from mlflow import log_metric, log_param, log_artifacts, set_experiment\n",
    "from uuid import uuid4\n",
    "import mlflow\n",
    "\n",
    "class ConnectionValidtion:\n",
    "    NAME = 'connection_validation'\n",
    "    \n",
    "    @property\n",
    "    def name(self):\n",
    "        return self.NAME\n",
    "    \n",
    "    @staticmethod\n",
    "    def get_tracking_uri():\n",
    "        return mlflow.get_tracking_uri()\n",
    "    \n",
    "    def set_experiment(self):\n",
    "        mlflow.set_experiment(self.name)\n",
    "    \n",
    "    @staticmethod\n",
    "    def _run():\n",
    "        # Log a parameter (key-value pair)\n",
    "        mlflow.log_param(\"param1\", randint(0, 100))\n",
    "\n",
    "        # Log a metric; metrics can be updated throughout the run\n",
    "        mlflow.log_metric(\"foo\", random())\n",
    "        mlflow.log_metric(\"foo\", random() + 1)\n",
    "        mlflow.log_metric(\"foo\", random() + 2)\n",
    "\n",
    "        # Log an artifact (output file)\n",
    "        if not os.path.exists(\"outputs\"):\n",
    "            os.makedirs(\"outputs\")\n",
    "        with open(\"outputs/test.txt\", \"w\") as f:\n",
    "            f.write(\"hello world!\")\n",
    "        mlflow.log_artifacts(\"outputs\")\n",
    "        \n",
    "    def start_run(self):\n",
    "        self.set_experiment()\n",
    "        with mlflow.start_run():\n",
    "            self._run()"
   ]
  },
  {
   "cell_type": "code",
   "execution_count": 7,
   "id": "df96787d-c7bd-40ea-bf4b-919ae3df9151",
   "metadata": {},
   "outputs": [],
   "source": [
    "job = ConnectionValidtion()\n",
    "job.start_run()"
   ]
  },
  {
   "cell_type": "code",
   "execution_count": null,
   "id": "bc2cecd4-2628-4997-b81c-4064262fd40f",
   "metadata": {},
   "outputs": [],
   "source": []
  }
 ],
 "metadata": {
  "kernelspec": {
   "display_name": "Python 3 (ipykernel)",
   "language": "python",
   "name": "python3"
  },
  "language_info": {
   "codemirror_mode": {
    "name": "ipython",
    "version": 3
   },
   "file_extension": ".py",
   "mimetype": "text/x-python",
   "name": "python",
   "nbconvert_exporter": "python",
   "pygments_lexer": "ipython3",
   "version": "3.10.6"
  }
 },
 "nbformat": 4,
 "nbformat_minor": 5
}
